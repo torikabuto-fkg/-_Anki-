{
  "nbformat": 4,
  "nbformat_minor": 0,
  "metadata": {
    "colab": {
      "provenance": [],
      "mount_file_id": "1K1p0oksSZWzDJClyEBt2SzXZMn_AbzK1",
      "authorship_tag": "ABX9TyM9/GhgEx8UEwoPc7xahHIn",
      "include_colab_link": true
    },
    "kernelspec": {
      "name": "python3",
      "display_name": "Python 3"
    },
    "language_info": {
      "name": "python"
    }
  },
  "cells": [
    {
      "cell_type": "markdown",
      "metadata": {
        "id": "view-in-github",
        "colab_type": "text"
      },
      "source": [
        "<a href=\"https://colab.research.google.com/github/torikabuto-fkg/-_Anki-/blob/main/QB_csv_Ver_1.ipynb\" target=\"_parent\"><img src=\"https://colab.research.google.com/assets/colab-badge.svg\" alt=\"Open In Colab\"/></a>"
      ]
    },
    {
      "cell_type": "code",
      "source": [
        "#@title #ライブラリのインストール\n",
        "#@markdown [shift]+[Enter]を押して起動してください\n",
        "\n",
        "!pip install PyMuPDF==1.21.1\n",
        "!pip install pdfminer.six==20221105\n",
        "!pip install PyPDF2==3.0.1\n",
        "!pip install natsort==5.5.0\n",
        "#正規表現\n",
        "import re\n",
        "import io, copy\n",
        "import glob, os\n",
        "from pdfminer.converter import PDFPageAggregator\n",
        "from pdfminer.layout import LAParams, LTContainer, LTTextBox, LTTextLine, LTChar\n",
        "from pdfminer.pdfinterp import PDFPageInterpreter, PDFResourceManager\n",
        "from pdfminer.pdfpage import PDFPage\n",
        "import PyPDF2\n",
        "from PyPDF2 import PdfFileWriter, PdfFileReader\n",
        "import fitz\n",
        "from typing import Tuple\n",
        "import os\n",
        "import sys\n",
        "import shutil\n",
        "import csv\n",
        "import pandas as pd\n",
        "import time\n",
        "from natsort import natsorted\n",
        "from google.colab import files"
      ],
      "metadata": {
        "colab": {
          "base_uri": "https://localhost:8080/"
        },
        "id": "HztG5WqudPep",
        "outputId": "3c46a0f1-09e7-4136-f158-a17d4e52d2cc"
      },
      "execution_count": null,
      "outputs": [
        {
          "output_type": "stream",
          "name": "stdout",
          "text": [
            "Collecting PyMuPDF==1.21.1\n",
            "  Downloading PyMuPDF-1.21.1-cp311-cp311-manylinux_2_17_x86_64.manylinux2014_x86_64.whl.metadata (8.4 kB)\n",
            "Downloading PyMuPDF-1.21.1-cp311-cp311-manylinux_2_17_x86_64.manylinux2014_x86_64.whl (14.1 MB)\n",
            "\u001b[2K   \u001b[90m━━━━━━━━━━━━━━━━━━━━━━━━━━━━━━━━━━━━━━━━\u001b[0m \u001b[32m14.1/14.1 MB\u001b[0m \u001b[31m57.0 MB/s\u001b[0m eta \u001b[36m0:00:00\u001b[0m\n",
            "\u001b[?25hInstalling collected packages: PyMuPDF\n",
            "Successfully installed PyMuPDF-1.21.1\n",
            "Collecting pdfminer.six==20221105\n",
            "  Downloading pdfminer.six-20221105-py3-none-any.whl.metadata (4.0 kB)\n",
            "Requirement already satisfied: charset-normalizer>=2.0.0 in /usr/local/lib/python3.11/dist-packages (from pdfminer.six==20221105) (3.4.1)\n",
            "Requirement already satisfied: cryptography>=36.0.0 in /usr/local/lib/python3.11/dist-packages (from pdfminer.six==20221105) (43.0.3)\n",
            "Requirement already satisfied: cffi>=1.12 in /usr/local/lib/python3.11/dist-packages (from cryptography>=36.0.0->pdfminer.six==20221105) (1.17.1)\n",
            "Requirement already satisfied: pycparser in /usr/local/lib/python3.11/dist-packages (from cffi>=1.12->cryptography>=36.0.0->pdfminer.six==20221105) (2.22)\n",
            "Downloading pdfminer.six-20221105-py3-none-any.whl (5.6 MB)\n",
            "\u001b[2K   \u001b[90m━━━━━━━━━━━━━━━━━━━━━━━━━━━━━━━━━━━━━━━━\u001b[0m \u001b[32m5.6/5.6 MB\u001b[0m \u001b[31m47.7 MB/s\u001b[0m eta \u001b[36m0:00:00\u001b[0m\n",
            "\u001b[?25hInstalling collected packages: pdfminer.six\n",
            "Successfully installed pdfminer.six-20221105\n",
            "Collecting PyPDF2==3.0.1\n",
            "  Downloading pypdf2-3.0.1-py3-none-any.whl.metadata (6.8 kB)\n",
            "Downloading pypdf2-3.0.1-py3-none-any.whl (232 kB)\n",
            "\u001b[2K   \u001b[90m━━━━━━━━━━━━━━━━━━━━━━━━━━━━━━━━━━━━━━━━\u001b[0m \u001b[32m232.6/232.6 kB\u001b[0m \u001b[31m5.8 MB/s\u001b[0m eta \u001b[36m0:00:00\u001b[0m\n",
            "\u001b[?25hInstalling collected packages: PyPDF2\n",
            "Successfully installed PyPDF2-3.0.1\n",
            "Collecting natsort==5.5.0\n",
            "  Downloading natsort-5.5.0-py2.py3-none-any.whl.metadata (20 kB)\n",
            "Downloading natsort-5.5.0-py2.py3-none-any.whl (38 kB)\n",
            "Installing collected packages: natsort\n",
            "  Attempting uninstall: natsort\n",
            "    Found existing installation: natsort 8.4.0\n",
            "    Uninstalling natsort-8.4.0:\n",
            "      Successfully uninstalled natsort-8.4.0\n",
            "Successfully installed natsort-5.5.0\n"
          ]
        }
      ]
    },
    {
      "cell_type": "code",
      "source": [
        "#@title #グーグルドライブと連携\n",
        "#@markdown [shift]+[Enter]を押して起動してください\n",
        "#@markdown　<br>GogoleDriveとの連携が求められるので、許可してください。\n",
        "\n",
        "#ドライブ設定\n",
        "PATH_GMOUNT='/content/gdrive'\n",
        "PATH_MYDRIVE=PATH_GMOUNT+'/My Drive'\n",
        "\n",
        "# Check if the mount point directory exists and is empty\n",
        "import os\n",
        "import shutil\n",
        "\n",
        "# Instead of removing the entire mount point, only remove the folder_name directory if it exists\n",
        "#if os.path.exists(os.path.join(PATH_MYDRIVE, folder_name)): # This line was causing the issue, since it check if something exists in My Drive before it is mounted\n",
        "if os.path.exists(PATH_GMOUNT):   # Check if the mount point exists first\n",
        "  if os.listdir(PATH_GMOUNT):  # Check if the mount point is empty\n",
        "    print(f\"Existing directory '{PATH_GMOUNT}' is not empty and will be cleared for mounting.\")  # This should be clear to the user that we are going to delete potentially usefull data.\n",
        "    shutil.rmtree(PATH_GMOUNT)  # Remove everything within the mount directory, if it is not empty\n",
        "    print(f\"Directory '{PATH_GMOUNT}' cleared.\")\n",
        "\n",
        "#GDriveマウント\n",
        "from google.colab import drive\n",
        "drive.mount(PATH_GMOUNT)\n",
        "\n"
      ],
      "metadata": {
        "colab": {
          "base_uri": "https://localhost:8080/"
        },
        "id": "opA53WoylDK3",
        "outputId": "4fa8301d-14f0-45f4-f2ed-c3ba01060bfe"
      },
      "execution_count": 61,
      "outputs": [
        {
          "output_type": "stream",
          "name": "stdout",
          "text": [
            "Mounted at /content/gdrive\n"
          ]
        }
      ]
    },
    {
      "cell_type": "code",
      "execution_count": 109,
      "metadata": {
        "colab": {
          "base_uri": "https://localhost:8080/"
        },
        "id": "x7llR7xxbZqr",
        "outputId": "cc11c272-d994-4185-ca72-54e1bd928bd2"
      },
      "outputs": [
        {
          "output_type": "stream",
          "name": "stdout",
          "text": [
            "処理が完了しました。結果は /content/Anki/4B-03/4B-03.csv に保存されました。\n"
          ]
        }
      ],
      "source": [
        "import pandas as pd\n",
        "import re\n",
        "import os\n",
        "\n",
        "# CSVファイルの読み込み\n",
        "path = \"4B-03\"\n",
        "file_path = f\"/content/{path}.csv\"  # 適宜ファイルパスを変更してください\n",
        "df = pd.read_csv(file_path)\n",
        "\n",
        "# 選択肢を分類するための辞書\n",
        "choices_dict = {'a': [], 'b': [], 'c': [], 'd': [], 'e': []}\n",
        "\n",
        "# 新しい「問題」列を格納するリスト\n",
        "processed_questions = []\n",
        "\n",
        "# 各行の「問題」列から選択肢を抽出し、元のテキストから削除\n",
        "for question in df[\"問題\"]:\n",
        "    # 選択肢を正規表現で抽出（例: \"ａ 核\", \"ｂ リソソーム\" など）\n",
        "    matches = re.findall(r'(ａ|ｂ|ｃ|ｄ|ｅ)\\s*([^\\n]+)', str(question))\n",
        "\n",
        "    # 各選択肢を対応するリストに格納\n",
        "    extracted = {'a': '', 'b': '', 'c': '', 'd': '', 'e': ''}\n",
        "    for match in matches:\n",
        "        key = match[0]  # \"ａ\", \"ｂ\", ... \"ｅ\"\n",
        "        value = match[1]  # 選択肢の内容\n",
        "        extracted[key.replace('ａ', 'a').replace('ｂ', 'b').replace('ｃ', 'c').replace('ｄ', 'd').replace('ｅ', 'e')] = value\n",
        "\n",
        "    # 選択肢を削除した問題文を作成\n",
        "    cleaned_question = re.sub(r'(ａ|ｂ|ｃ|ｄ|ｅ)\\s*[^\\n]+', '', str(question)).strip()\n",
        "    processed_questions.append(cleaned_question)\n",
        "\n",
        "    # 各リストに追加\n",
        "    for key in choices_dict.keys():\n",
        "        choices_dict[key].append(extracted[key])\n",
        "\n",
        "# 抽出したデータを新しいDataFrameに追加\n",
        "df_processed = df.copy()\n",
        "df_processed[\"問題\"] = processed_questions\n",
        "for key in choices_dict.keys():\n",
        "    df_processed[f\"{key}選択肢\"] = choices_dict[key]\n",
        "\n",
        "# 処理したデータをCSVとして保存\n",
        "output_file = f\"/content/Anki/{path}/{path}.csv\"\n",
        "\n",
        "# ディレクトリが存在しない場合は作成\n",
        "os.makedirs(os.path.dirname(output_file), exist_ok=True)\n",
        "\n",
        "df_processed.to_csv(output_file, index=False)\n",
        "\n",
        "print(f\"処理が完了しました。結果は {output_file} に保存されました。\")\n"
      ]
    },
    {
      "cell_type": "code",
      "source": [
        "import shutil\n",
        "\n",
        "# /content/ をZIPに圧縮\n",
        "shutil.make_archive('/content/my_content', 'zip', '/content', 'Anki/')\n",
        "\n",
        "# ZIPファイルをダウンロード\n",
        "files.download('/content/my_content.zip')"
      ],
      "metadata": {
        "colab": {
          "base_uri": "https://localhost:8080/",
          "height": 17
        },
        "id": "aP77EyrrokVE",
        "outputId": "b6357330-fbc8-47dc-e30a-751c6f790bc4"
      },
      "execution_count": 110,
      "outputs": [
        {
          "output_type": "display_data",
          "data": {
            "text/plain": [
              "<IPython.core.display.Javascript object>"
            ],
            "application/javascript": [
              "\n",
              "    async function download(id, filename, size) {\n",
              "      if (!google.colab.kernel.accessAllowed) {\n",
              "        return;\n",
              "      }\n",
              "      const div = document.createElement('div');\n",
              "      const label = document.createElement('label');\n",
              "      label.textContent = `Downloading \"${filename}\": `;\n",
              "      div.appendChild(label);\n",
              "      const progress = document.createElement('progress');\n",
              "      progress.max = size;\n",
              "      div.appendChild(progress);\n",
              "      document.body.appendChild(div);\n",
              "\n",
              "      const buffers = [];\n",
              "      let downloaded = 0;\n",
              "\n",
              "      const channel = await google.colab.kernel.comms.open(id);\n",
              "      // Send a message to notify the kernel that we're ready.\n",
              "      channel.send({})\n",
              "\n",
              "      for await (const message of channel.messages) {\n",
              "        // Send a message to notify the kernel that we're ready.\n",
              "        channel.send({})\n",
              "        if (message.buffers) {\n",
              "          for (const buffer of message.buffers) {\n",
              "            buffers.push(buffer);\n",
              "            downloaded += buffer.byteLength;\n",
              "            progress.value = downloaded;\n",
              "          }\n",
              "        }\n",
              "      }\n",
              "      const blob = new Blob(buffers, {type: 'application/binary'});\n",
              "      const a = document.createElement('a');\n",
              "      a.href = window.URL.createObjectURL(blob);\n",
              "      a.download = filename;\n",
              "      div.appendChild(a);\n",
              "      a.click();\n",
              "      div.remove();\n",
              "    }\n",
              "  "
            ]
          },
          "metadata": {}
        },
        {
          "output_type": "display_data",
          "data": {
            "text/plain": [
              "<IPython.core.display.Javascript object>"
            ],
            "application/javascript": [
              "download(\"download_1ddd96cc-0482-45d7-880e-374865899915\", \"my_content.zip\", 279256)"
            ]
          },
          "metadata": {}
        }
      ]
    }
  ]
}