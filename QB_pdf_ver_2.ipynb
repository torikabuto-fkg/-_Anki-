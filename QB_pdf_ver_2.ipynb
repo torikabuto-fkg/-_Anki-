{
  "nbformat": 4,
  "nbformat_minor": 0,
  "metadata": {
    "colab": {
      "provenance": [],
      "mount_file_id": "1cNGvBuSuqkBTkSceu5mWfWMlPCOzHFGN",
      "authorship_tag": "ABX9TyMVY8snA1hX8WRn+twpmJBU",
      "include_colab_link": true
    },
    "kernelspec": {
      "name": "python3",
      "display_name": "Python 3"
    },
    "language_info": {
      "name": "python"
    }
  },
  "cells": [
    {
      "cell_type": "markdown",
      "metadata": {
        "id": "view-in-github",
        "colab_type": "text"
      },
      "source": [
        "<a href=\"https://colab.research.google.com/github/torikabutofkg/-_Anki-/blob/main/QB_pdf_ver_2.ipynb\" target=\"_parent\"><img src=\"https://colab.research.google.com/assets/colab-badge.svg\" alt=\"Open In Colab\"/></a>"
      ]
    },
    {
      "cell_type": "code",
      "source": [
        "#@title #ライブラリのインストール\n",
        "#@markdown [shift]+[Enter]を押して起動してください\n",
        "\n",
        "!pip install PyMuPDF==1.21.1\n",
        "!pip install pdfminer.six==20221105\n",
        "!pip install PyPDF2==3.0.1\n",
        "!pip install natsort==5.5.0\n",
        "#正規表現\n",
        "import re\n",
        "import io, copy\n",
        "import glob, os\n",
        "from pdfminer.converter import PDFPageAggregator\n",
        "from pdfminer.layout import LAParams, LTContainer, LTTextBox, LTTextLine, LTChar\n",
        "from pdfminer.pdfinterp import PDFPageInterpreter, PDFResourceManager\n",
        "from pdfminer.pdfpage import PDFPage\n",
        "import PyPDF2\n",
        "from PyPDF2 import PdfFileWriter, PdfFileReader\n",
        "import fitz\n",
        "from typing import Tuple\n",
        "import os\n",
        "import sys\n",
        "import shutil\n",
        "import csv\n",
        "import pandas as pd\n",
        "import time\n",
        "from natsort import natsorted\n",
        "from google.colab import files"
      ],
      "metadata": {
        "colab": {
          "base_uri": "https://localhost:8080/"
        },
        "id": "nJB_9rfE9HKo",
        "outputId": "b1085d0b-d1a3-422c-a790-b5e97efa37dd"
      },
      "execution_count": null,
      "outputs": [
        {
          "output_type": "stream",
          "name": "stdout",
          "text": [
            "Requirement already satisfied: PyMuPDF==1.21.1 in /usr/local/lib/python3.11/dist-packages (1.21.1)\n",
            "Requirement already satisfied: pdfminer.six==20221105 in /usr/local/lib/python3.11/dist-packages (20221105)\n",
            "Requirement already satisfied: charset-normalizer>=2.0.0 in /usr/local/lib/python3.11/dist-packages (from pdfminer.six==20221105) (3.4.1)\n",
            "Requirement already satisfied: cryptography>=36.0.0 in /usr/local/lib/python3.11/dist-packages (from pdfminer.six==20221105) (43.0.3)\n",
            "Requirement already satisfied: cffi>=1.12 in /usr/local/lib/python3.11/dist-packages (from cryptography>=36.0.0->pdfminer.six==20221105) (1.17.1)\n",
            "Requirement already satisfied: pycparser in /usr/local/lib/python3.11/dist-packages (from cffi>=1.12->cryptography>=36.0.0->pdfminer.six==20221105) (2.22)\n",
            "Requirement already satisfied: PyPDF2==3.0.1 in /usr/local/lib/python3.11/dist-packages (3.0.1)\n",
            "Requirement already satisfied: natsort==5.5.0 in /usr/local/lib/python3.11/dist-packages (5.5.0)\n"
          ]
        }
      ]
    },
    {
      "source": [
        "#@title #グーグルドライブと連携\n",
        "#@markdown [shift]+[Enter]を押して起動してください\n",
        "#@markdown　<br>GogoleDriveとの連携が求められるので、許可してください。\n",
        "\n",
        "#ドライブ設定\n",
        "PATH_GMOUNT='/content/gdrive'\n",
        "PATH_MYDRIVE=PATH_GMOUNT+'/My Drive'\n",
        "\n",
        "# Check if the mount point directory exists and is empty\n",
        "import os\n",
        "import shutil\n",
        "\n",
        "# Instead of removing the entire mount point, only remove the folder_name directory if it exists\n",
        "if os.path.exists(os.path.join(PATH_MYDRIVE, folder_name)):\n",
        "  # If the directory exists, remove its contents\n",
        "  shutil.rmtree(os.path.join(PATH_MYDRIVE, folder_name))\n",
        "  print(f\"Existing directory '{folder_name}' contents removed.\")\n",
        "\n",
        "#GDriveマウント\n",
        "from google.colab import drive\n",
        "drive.mount(PATH_GMOUNT)"
      ],
      "cell_type": "code",
      "metadata": {
        "colab": {
          "base_uri": "https://localhost:8080/"
        },
        "id": "CCS7m8Y-EbPQ",
        "outputId": "e72360e1-b6f1-4abd-849a-44f1ccaa0f4b"
      },
      "execution_count": null,
      "outputs": [
        {
          "output_type": "stream",
          "name": "stdout",
          "text": [
            "Existing directory 'QBCropper' contents removed.\n",
            "Drive already mounted at /content/gdrive; to attempt to forcibly remount, call drive.mount(\"/content/gdrive\", force_remount=True).\n"
          ]
        }
      ]
    },
    {
      "cell_type": "code",
      "source": [
        "import os\n",
        "import shutil\n",
        "import fitz\n",
        "import re\n",
        "import pandas as pd\n",
        "\n",
        "# ディレクトリの設定\n",
        "folder_name = \"QBCropper\"\n",
        "folder_path = f\"/content/gdrive/MyDrive/{folder_name}\"\n",
        "if os.path.exists(folder_path):\n",
        "    shutil.rmtree(folder_path)\n",
        "os.makedirs(folder_path, exist_ok=True)\n",
        "\n",
        "pdf_path = \"/content/1J.pdf\"\n",
        "\n",
        "# PDFファイルの読み込み\n",
        "doc = fitz.open(pdf_path)\n",
        "\n",
        "# 画像を保存するフォルダ\n",
        "image_folder = os.path.join(folder_path, \"images\")\n",
        "os.makedirs(image_folder, exist_ok=True)\n",
        "\n",
        "# テキスト抽出関数（画像含む）\n",
        "def extract_text_and_images_from_pdf(pdf_path):\n",
        "    doc = fitz.open(pdf_path)\n",
        "    text_list = []\n",
        "    image_info = {}\n",
        "\n",
        "    for page_num, page in enumerate(doc, start=1):  # 1ページ目を1から数える\n",
        "        text = page.get_text()\n",
        "        text_list.append((page_num, text))  # (ページ番号, テキスト) のタプルで保存\n",
        "\n",
        "        for img_index, img in enumerate(page.get_images(full=True)):\n",
        "            xref = img[0]\n",
        "            base_image = doc.extract_image(xref)\n",
        "            image_bytes = base_image[\"image\"]\n",
        "\n",
        "            # 一時的な画像ファイル名（ページ番号ベース）\n",
        "            temp_filename = f\"{page_num}_{img_index}.png\"\n",
        "            img_path = os.path.join(image_folder, temp_filename)\n",
        "\n",
        "            with open(img_path, \"wb\") as img_file:\n",
        "                img_file.write(image_bytes)\n",
        "\n",
        "            # ページごとの画像をリストで保持\n",
        "            if page_num not in image_info:\n",
        "                image_info[page_num] = []\n",
        "            image_info[page_num].append(temp_filename)\n",
        "\n",
        "    doc.close()\n",
        "    return text_list, image_info\n",
        "\n",
        "# 問題の抽出（ページ番号対応）\n",
        "def extract_questions_from_text(text_list, image_info):\n",
        "    questions = []\n",
        "    question_data = {}\n",
        "    question_text = []\n",
        "    current_page = 1  # 初期ページ番号を設定\n",
        "    problem_counter = 0  # 問題ごとのカウンター\n",
        "\n",
        "    for page_num, text in text_list:  # 各ページのテキストとページ番号\n",
        "        lines = text.splitlines()\n",
        "        for line in lines:\n",
        "            line = line.strip()\n",
        "\n",
        "            # ページ更新\n",
        "            current_page = page_num\n",
        "\n",
        "            # 問題IDの検出\n",
        "            if \"問題ID︓\" in line:\n",
        "                if question_text:\n",
        "                    question_data['問題'] = \"\\n\".join(question_text).strip()\n",
        "                    question_text = []\n",
        "\n",
        "                question_id = re.search(r\"問題ID︓(\\d+)\", line).group(1)\n",
        "                question_data['問題ID'] = question_id\n",
        "                question_data['ページ'] = current_page  # ページ番号を記録\n",
        "\n",
        "                # 問題ごとのカウンターをリセット\n",
        "                problem_counter += 1\n",
        "\n",
        "                # 画像が存在する場合、新しい問題IDで画像ファイル名を変更\n",
        "                if current_page in image_info:\n",
        "                    new_filenames = []\n",
        "                    for idx, old_filename in enumerate(image_info[current_page]):\n",
        "                        new_filename = f\"{current_page}_{question_id}_{idx}.png\"\n",
        "                        old_path = os.path.join(image_folder, old_filename)\n",
        "                        new_path = os.path.join(image_folder, new_filename)\n",
        "                        os.rename(old_path, new_path)  # ファイル名変更\n",
        "                        new_filenames.append(new_filename)\n",
        "                    image_info[current_page] = new_filenames  # 画像リストを更新\n",
        "\n",
        "            # 解答の検出\n",
        "            elif \"解答︓\" in line:\n",
        "                question_data['解答'] = re.search(r\"解答︓([a-e])\", line).group(1)\n",
        "\n",
        "                # 問題ID、解答、問題が揃っている場合に保存\n",
        "                if '問題' in question_data and '問題ID' in question_data and '解答' in question_data:\n",
        "                    questions.append(question_data)\n",
        "                    question_data = {}\n",
        "\n",
        "            # 問題文の収集\n",
        "            else:\n",
        "                if line and not any(skip in line for skip in [\"©MEDIC MEDIA\", \"QB オンラインCBT\", \"最終更新\"]):\n",
        "                    question_text.append(line)\n",
        "\n",
        "    # 最後の問題を保存\n",
        "    if question_text and '問題ID' in question_data and '解答' in question_data:\n",
        "        question_data['問題'] = \"\\n\".join(question_text).strip()\n",
        "        questions.append(question_data)\n",
        "\n",
        "    # 画像の追加\n",
        "    for question in questions:\n",
        "        page_num = question[\"ページ\"]  # 記録しておいたページ番号を取得\n",
        "        if page_num in image_info:\n",
        "            img_filenames = image_info[page_num]  # そのページの画像リスト\n",
        "            img_tags = \" \".join([f'<img src=\"{img}\" />' for img in img_filenames])\n",
        "            question[\"画像\"] = img_tags\n",
        "        else:\n",
        "            question[\"画像\"] = \"\"\n",
        "\n",
        "    return questions\n",
        "\n",
        "# テキストと画像情報を抽出\n",
        "pdf_text_list, image_info = extract_text_and_images_from_pdf(pdf_path)\n",
        "\n",
        "# 問題を抽出\n",
        "questions = extract_questions_from_text(pdf_text_list, image_info)\n",
        "\n",
        "# データフレームに変換\n",
        "df = pd.DataFrame(questions)\n",
        "\n",
        "# CSVファイルに保存\n",
        "output_file = os.path.join(folder_path, \"1J.csv\")\n",
        "df.to_csv(output_file, index=False, encoding=\"utf-8\")\n",
        "\n",
        "print(f\"CSVファイルが保存されました: {output_file}\")\n"
      ],
      "metadata": {
        "colab": {
          "base_uri": "https://localhost:8080/"
        },
        "id": "f2AnIonCtT7k",
        "outputId": "db718eaf-588a-48ad-e6a3-a58ada1c2529"
      },
      "execution_count": null,
      "outputs": [
        {
          "output_type": "stream",
          "name": "stdout",
          "text": [
            "CSVファイルが保存されました: /content/gdrive/MyDrive/QBCropper/1J.csv\n"
          ]
        }
      ]
    },
    {
      "cell_type": "code",
      "source": [],
      "metadata": {
        "id": "q8pKsPxvCsMP"
      },
      "execution_count": null,
      "outputs": []
    }
  ]
}